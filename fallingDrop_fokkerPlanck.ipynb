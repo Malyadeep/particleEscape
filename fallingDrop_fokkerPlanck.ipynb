{
 "cells": [
  {
   "cell_type": "code",
   "execution_count": null,
   "metadata": {},
   "outputs": [],
   "source": [
    "%pip install numpy matplotlib numba tqdm"
   ]
  },
  {
   "cell_type": "code",
   "execution_count": null,
   "metadata": {},
   "outputs": [],
   "source": [
    "import numpy as np\n",
    "import scipy\n",
    "import numba\n",
    "import matplotlib.pyplot as plt\n",
    "import matplotlib as mpl\n",
    "from matplotlib.animation import FuncAnimation\n",
    "from matplotlib.patches import Circle\n",
    "import os"
   ]
  },
  {
   "cell_type": "code",
   "execution_count": null,
   "metadata": {},
   "outputs": [],
   "source": [
    "def compute_u_r(r, theta, velocity, radius):\n",
    "    return r * (radius * radius - r * r) * velocity *\\\n",
    "        np.cos(theta) * np.sin(theta)\n",
    "\n",
    "\n",
    "def compute_u_theta(r, theta, velocity, radius):\n",
    "    return r * (2 * r * r - radius * radius) * velocity *\\\n",
    "        np.sin(theta) * np.sin(theta)\n",
    "\n",
    "\n",
    "@numba.njit\n",
    "def fpe_euler_full(endTime, p, u_r, u_theta, r, theta,\n",
    "                   delta_r, delta_theta, N_r, N_theta, velocity,\n",
    "                   noiseCoeff, radius, dt=0.01, saveInterval=1000):\n",
    "    solnTimes = np.linspace(0, endTime, int(endTime/dt) + 1)\n",
    "    pAll = np.zeros((solnTimes.shape[0]//saveInterval + 1, N_r, N_theta),\n",
    "                    dtype=np.float64)\n",
    "    pAll[0, :, :] = p\n",
    "    snap = 1\n",
    "    p_new = np.copy(p)\n",
    "    dpdt = np.zeros((N_r, N_theta))\n",
    "    for t in range(1, solnTimes.shape[0]):\n",
    "        pSum = 0\n",
    "        for j in range(N_theta):\n",
    "            pSum += p[1, j]\n",
    "        for j in range(N_theta):\n",
    "            p[0, j] = pSum / N_theta\n",
    "        for i in range(1, N_r - 1):\n",
    "            for j in range(N_theta):\n",
    "                # j_across = (j + N_theta // 2) % N_theta\n",
    "                j_plus = (j + 1 + N_theta) % N_theta\n",
    "                j_minus = (j - 1 + N_theta) % N_theta\n",
    "                ## drift at r direction\n",
    "                u_r_plus = np.max(np.array([u_r[i, j], np.float64(0)]))\n",
    "                u_r_minus = np.min(np.array([u_r[i, j], np.float64(0)]))\n",
    "                p_r_minus = (p[i, j] - p[i - 1, j]) / delta_r\n",
    "                p_r_plus = (p[i + 1, j] - p[i, j]) / delta_r\n",
    "                drift_r = u_r_plus * p_r_minus + u_r_minus * p_r_plus\n",
    "                ## drift at theta direction\n",
    "                u_theta_plus = np.max(np.array([u_theta[i, j], np.float64(0)]))\n",
    "                u_theta_minus = np.min(np.array([u_theta[i, j], np.float64(0)]))\n",
    "                p_theta_minus = (p[i, j] - p[i, j_minus]) / (r[i] * delta_theta)\n",
    "                p_theta_plus = (p[i, j_plus] - p[i, j]) / (r[i] * delta_theta)\n",
    "                drift_theta = u_theta_plus * p_theta_minus +\\\n",
    "                    u_theta_minus * p_theta_plus\n",
    "                ## laplacian terms\n",
    "                d2pdr2 = (p[i + 1, j] + p[i - 1, j] - 2 * p[i, j]) /\\\n",
    "                    (delta_r * delta_r)\n",
    "                d2pdtheta2 = (p[i, j_plus] + p[i, j_minus] - 2 * p[i, j]) /\\\n",
    "                    (delta_theta * delta_theta * r[i] * r[i])\n",
    "                dpdr = (p[i + 1, j] - p[i - 1, j]) / (2 * r[i] * delta_r)\n",
    "                pByr = p[i, j] / (r[i] * r[i])\n",
    "                dpdt[i, j] = - drift_r - drift_theta + noiseCoeff * noiseCoeff *\\\n",
    "                    0.5 * (d2pdr2 + d2pdtheta2 - dpdr + pByr)\n",
    "        for i in range(1, N_r - 1):\n",
    "            for j in range(N_theta):\n",
    "                p_new[i, j] = p[i, j] + dpdt[i, j] * dt\n",
    "                p[i, j] = p_new[i, j]\n",
    "        if t % saveInterval == 0:\n",
    "            pAll[snap, :, :] = p\n",
    "            snap += 1\n",
    "    return pAll"
   ]
  },
  {
   "cell_type": "markdown",
   "metadata": {},
   "source": [
    "## Full circle Fokker-Planck"
   ]
  },
  {
   "cell_type": "code",
   "execution_count": null,
   "metadata": {},
   "outputs": [],
   "source": [
    "velocity = 1\n",
    "radius = 0.3\n",
    "noiseCoeff = 1e-3\n",
    "N_r, N_theta = 11, 20\n",
    "r = np.linspace(0, radius, N_r)\n",
    "theta = np.linspace(10, 370, N_theta + 1) * np.pi / 180\n",
    "theta = theta[:-1]\n",
    "mesh_r, mesh_theta = np.meshgrid(r, theta)\n",
    "delta_r = r[1] - r[0]\n",
    "delta_theta = theta[1] - theta[0]\n",
    "print(delta_r, delta_theta)"
   ]
  },
  {
   "cell_type": "code",
   "execution_count": null,
   "metadata": {},
   "outputs": [],
   "source": [
    "u_r = np.zeros((N_r, N_theta), dtype=np.float64)\n",
    "u_theta = np.zeros((N_r, N_theta), dtype=np.float64)\n",
    "for i in range(N_r):\n",
    "    for j in range(N_theta):\n",
    "        u_r[i, j] = compute_u_r(mesh_r.T[i, j], mesh_theta.T[i, j], velocity, radius)\n",
    "        u_theta[i, j] = compute_u_theta(mesh_r.T[i, j], mesh_theta.T[i, j], velocity, radius)\n",
    "        if theta[j] > np.pi:\n",
    "            u_r[i, j] = - u_r[i, j] \n",
    "            u_theta[i, j] = - u_theta[i, j]"
   ]
  },
  {
   "cell_type": "code",
   "execution_count": null,
   "metadata": {},
   "outputs": [],
   "source": [
    "u_mag = np.sqrt(np.power(u_r, 2) + np.power(u_theta, 2))\n",
    "u_x = np.multiply(u_r, np.cos(mesh_theta.T)) -\\\n",
    "    np.multiply(u_theta, np.sin(mesh_theta.T))\n",
    "u_y = np.multiply(u_r, np.sin(mesh_theta.T)) +\\\n",
    "    np.multiply(u_theta, np.cos(mesh_theta.T))\n",
    "fig, ax = plt.subplots(subplot_kw={'projection': 'polar'})\n",
    "cmap = mpl.colormaps.get_cmap(\"jet\")\n",
    "scat = ax.scatter(mesh_theta.T, mesh_r.T, marker='o', s=20, c=u_mag, cmap=cmap)\n",
    "plt.colorbar(scat)\n",
    "plt.show()"
   ]
  },
  {
   "cell_type": "code",
   "execution_count": null,
   "metadata": {},
   "outputs": [],
   "source": [
    "area = np.pi * radius * radius\n",
    "initialPDFValue = 1 / area\n",
    "p_0 = np.zeros_like(u_r)\n",
    "for i in range(0, N_r - 1):\n",
    "    for j in range(N_theta):\n",
    "        p_0[i, j] = initialPDFValue"
   ]
  },
  {
   "cell_type": "code",
   "execution_count": null,
   "metadata": {},
   "outputs": [],
   "source": [
    "fig, ax = plt.subplots(subplot_kw={'projection': 'polar'})\n",
    "cmap = mpl.colormaps.get_cmap(\"jet\")\n",
    "scat = ax.scatter(mesh_theta.T, mesh_r.T, marker='o', s=20, c=p_0, cmap=cmap)\n",
    "plt.colorbar(scat)\n",
    "plt.show()"
   ]
  },
  {
   "cell_type": "code",
   "execution_count": null,
   "metadata": {},
   "outputs": [],
   "source": [
    "p = np.copy(p_0)\n",
    "endTime = 900\n",
    "saveInterval = 0.2\n",
    "noOfSteps = int(endTime/saveInterval) + 1\n",
    "times = np.linspace(0, endTime, noOfSteps)\n",
    "pFinal = fpe_euler_full(endTime, p, u_r, u_theta, r, theta,\n",
    "                        delta_r, delta_theta, N_r, N_theta, velocity,\n",
    "                        noiseCoeff, radius, dt=0.01, saveInterval=1000)\n",
    "print(pFinal.shape)"
   ]
  },
  {
   "cell_type": "code",
   "execution_count": null,
   "metadata": {},
   "outputs": [],
   "source": [
    "fig, ax = plt.subplots(subplot_kw={'projection': 'polar'})\n",
    "cmap = mpl.colormaps.get_cmap(\"jet\")\n",
    "scat = ax.scatter(mesh_theta.T, mesh_r.T, marker='o', s=20,\n",
    "                  c=pFinal[-1, :, :], cmap=cmap,\n",
    "                  vmin=0, vmax=0.05)\n",
    "plt.colorbar(scat)\n",
    "plt.show()"
   ]
  },
  {
   "cell_type": "code",
   "execution_count": null,
   "metadata": {},
   "outputs": [],
   "source": [
    "if not os.path.isdir(\"figures\"):\n",
    "    os.makedirs(\"figures\")\n",
    "center_x, center_y = 0, 0\n",
    "mesh_x = np.multiply(mesh_r, np.cos(mesh_theta))\n",
    "mesh_y = np.multiply(mesh_r, np.sin(mesh_theta))\n",
    "snaps = [0, 45, 75, 90]\n",
    "v_min = [0, 0, 0, 0]\n",
    "v_max = [3.5, 0.05, 0.05, 0.05]\n",
    "for itr, snap in enumerate(snaps):\n",
    "    fig = plt.figure(itr, figsize=(10, 8))\n",
    "    ax = plt.gca()\n",
    "    circle = Circle((center_x, center_y), radius, fill=False)\n",
    "    ax.add_patch(circle)\n",
    "    cmap = mpl.colormaps.get_cmap(\"jet\")\n",
    "    scat = ax.scatter(mesh_x.T, mesh_y.T, marker='o', s=20,\n",
    "                    c=pFinal[snap, :, :], cmap=cmap,\n",
    "                    vmin=v_min[itr], vmax=v_max[itr])\n",
    "    cbar = plt.colorbar(scat)\n",
    "    cbar.set_label(r\"$\\tilde{p}(r, \\theta, t)$\", size=20, labelpad=10)\n",
    "    cbar.ax.tick_params(labelsize=15)\n",
    "    ax.set_xlabel(r\"x\", fontsize=18)\n",
    "    ax.set_ylabel(r\"y\", fontsize=18)\n",
    "    ax.text(-0.35, 0.35, r\"$t = \" + str(snap * 1000 * 0.01) + r\"$\",\n",
    "            fontsize=20)\n",
    "    ax.set_xticks([-0.4, -0.2, 0, 0.2, 0.4])\n",
    "    ax.set_xticklabels([-0.4, -0.2, 0, 0.2, 0.4], fontsize=15)\n",
    "    ax.set_yticks([-0.4, -0.2, 0, 0.2, 0.4])\n",
    "    ax.set_yticklabels([-0.4, -0.2, 0, 0.2, 0.4], fontsize=15)\n",
    "    plt.savefig(\"figures/fpe_t_\" + str(snap) + \".png\")\n",
    "    plt.close()"
   ]
  },
  {
   "cell_type": "code",
   "execution_count": null,
   "metadata": {},
   "outputs": [],
   "source": [
    "fig = plt.figure(itr, figsize=(7, 7))\n",
    "ax = fig.add_axes([0.13, 0.15, 0.82, 0.80])\n",
    "circle = Circle((center_x, center_y), radius, fill=False)\n",
    "ax.add_patch(circle)\n",
    "scat = ax.scatter(mesh_x.T, mesh_y.T, marker='o', s=20,\n",
    "                  edgecolors=\"black\", facecolors=\"black\")\n",
    "ax.set_xlabel(r\"x\", fontsize=18)\n",
    "ax.set_ylabel(r\"y\", fontsize=18)\n",
    "ax.set_xticks([-0.4, -0.2, 0, 0.2, 0.4])\n",
    "ax.set_xticklabels([-0.4, -0.2, 0, 0.2, 0.4], fontsize=15)\n",
    "ax.set_yticks([-0.4, -0.2, 0, 0.2, 0.4])\n",
    "ax.set_yticklabels([-0.4, -0.2, 0, 0.2, 0.4], fontsize=15)\n",
    "plt.savefig(\"figures/fpe_2d_grid_polar.png\")\n",
    "plt.close()"
   ]
  },
  {
   "cell_type": "code",
   "execution_count": null,
   "metadata": {},
   "outputs": [],
   "source": [
    "fig = plt.figure(itr, figsize=(7, 7))\n",
    "ax = fig.add_axes([0.13, 0.15, 0.82, 0.80])\n",
    "scat = ax.scatter(mesh_theta.T * 180 / np.pi, mesh_r.T, marker='o', s=20,\n",
    "                  edgecolors=\"black\", facecolors=\"black\")\n",
    "ax.set_xlabel(r\"$\\theta\\,(\\degree)$\", fontsize=20)\n",
    "ax.set_ylabel(r\"$r$\", fontsize=20)\n",
    "ax.set_xticks([0, 60, 120, 180, 240, 360])\n",
    "ax.set_xticklabels([0, 60, 120, 180, 240, 360], fontsize=15)\n",
    "ax.set_yticks([0.05, 0.1, 0.15, 0.2, 0.25, 0.3])\n",
    "ax.set_yticklabels([0.05, 0.1, 0.15, 0.2, 0.25, 0.3], fontsize=15)\n",
    "plt.savefig(\"figures/fpe_2d_map.png\")\n",
    "plt.close()"
   ]
  }
 ],
 "metadata": {
  "kernelspec": {
   "display_name": "Python 3",
   "language": "python",
   "name": "python3"
  },
  "language_info": {
   "codemirror_mode": {
    "name": "ipython",
    "version": 3
   },
   "file_extension": ".py",
   "mimetype": "text/x-python",
   "name": "python",
   "nbconvert_exporter": "python",
   "pygments_lexer": "ipython3",
   "version": "3.8.10"
  }
 },
 "nbformat": 4,
 "nbformat_minor": 2
}
